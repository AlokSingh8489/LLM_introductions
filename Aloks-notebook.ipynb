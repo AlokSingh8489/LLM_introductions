{
 "cells": [
  {
   "cell_type": "markdown",
   "id": "8c0dce6b-3d89-4c67-a219-6b4270b4876a",
   "metadata": {},
   "source": [
    "## Recap on installation of Ollama\n",
    "\n",
    "Simply visit [ollama.com](https://ollama.com) and install!\n",
    "\n",
    "Once complete, the ollama server should already be running locally.  \n",
    "If you visit:  \n",
    "[http://localhost:11434/](http://localhost:11434/)\n",
    "\n",
    "You should see the message `Ollama is running`.  \n"
   ]
  },
  {
   "cell_type": "code",
   "execution_count": 1,
   "id": "3d9a6ac5-5fc5-4e00-9553-e791a0bedf18",
   "metadata": {},
   "outputs": [],
   "source": [
    "# imports\n",
    "import requests\n",
    "from bs4 import BeautifulSoup\n",
    "from IPython.display import Markdown, display"
   ]
  },
  {
   "cell_type": "code",
   "execution_count": 2,
   "id": "1275a431-34d9-49db-8f1d-a5a4ad452354",
   "metadata": {},
   "outputs": [
    {
     "name": "stderr",
     "output_type": "stream",
     "text": [
      "\u001b[?2026h\u001b[?25l\u001b[1Gpulling manifest â ‹ \u001b[K\u001b[?25h\u001b[?2026l\u001b[?2026h\u001b[?25l\u001b[1Gpulling manifest â ™ \u001b[K\u001b[?25h\u001b[?2026l\u001b[?2026h\u001b[?25l\u001b[1Gpulling manifest â ¹ \u001b[K\u001b[?25h\u001b[?2026l\u001b[?2026h\u001b[?25l\u001b[1Gpulling manifest â ¸ \u001b[K\u001b[?25h\u001b[?2026l\u001b[?2026h\u001b[?25l\u001b[1Gpulling manifest â ¼ \u001b[K\u001b[?25h\u001b[?2026l\u001b[?2026h\u001b[?25l\u001b[1Gpulling manifest â ´ \u001b[K\u001b[?25h\u001b[?2026l\u001b[?2026h\u001b[?25l\u001b[1Gpulling manifest â ¦ \u001b[K\u001b[?25h\u001b[?2026l\u001b[?2026h\u001b[?25l\u001b[1Gpulling manifest â § \u001b[K\u001b[?25h\u001b[?2026l\u001b[?2026h\u001b[?25l\u001b[1Gpulling manifest â ‡ \u001b[K\u001b[?25h\u001b[?2026l\u001b[?2026h\u001b[?25l\u001b[1Gpulling manifest â � \u001b[K\u001b[?25h\u001b[?2026l\u001b[?2026h\u001b[?25l\u001b[1Gpulling manifest â ‹ \u001b[K\u001b[?25h\u001b[?2026l\u001b[?2026h\u001b[?25l\u001b[1Gpulling manifest â ™ \u001b[K\u001b[?25h\u001b[?2026l\u001b[?2026h\u001b[?25l\u001b[1Gpulling manifest â ¹ \u001b[K\u001b[?25h\u001b[?2026l\u001b[?2026h\u001b[?25l\u001b[1Gpulling manifest â ¸ \u001b[K\u001b[?25h\u001b[?2026l\u001b[?2026h\u001b[?25l\u001b[1Gpulling manifest â ¼ \u001b[K\u001b[?25h\u001b[?2026l\u001b[?2026h\u001b[?25l\u001b[1Gpulling manifest â ´ \u001b[K\u001b[?25h\u001b[?2026l\u001b[?2026h\u001b[?25l\u001b[1Gpulling manifest â ¦ \u001b[K\u001b[?25h\u001b[?2026l\u001b[?2026h\u001b[?25l\u001b[1Gpulling manifest â § \u001b[K\u001b[?25h\u001b[?2026l\u001b[?2026h\u001b[?25l\u001b[1Gpulling manifest â ‡ \u001b[K\u001b[?25h\u001b[?2026l\u001b[?2026h\u001b[?25l\u001b[1Gpulling manifest â � \u001b[K\u001b[?25h\u001b[?2026l\u001b[?2026h\u001b[?25l\u001b[1Gpulling manifest â ‹ \u001b[K\u001b[?25h\u001b[?2026l\u001b[?2026h\u001b[?25l\u001b[1Gpulling manifest â ™ \u001b[K\u001b[?25h\u001b[?2026l\u001b[?2026h\u001b[?25l\u001b[1Gpulling manifest â ¹ \u001b[K\u001b[?25h\u001b[?2026l\u001b[?2026h\u001b[?25l\u001b[1Gpulling manifest â ¸ \u001b[K\u001b[?25h\u001b[?2026l\u001b[?2026h\u001b[?25l\u001b[1Gpulling manifest â ¼ \u001b[K\u001b[?25h\u001b[?2026l\u001b[?2026h\u001b[?25l\u001b[1Gpulling manifest \u001b[K\n",
      "pulling dde5aa3fc5ff... 100% â–•â–ˆâ–ˆâ–ˆâ–ˆâ–ˆâ–ˆâ–ˆâ–ˆâ–ˆâ–ˆâ–ˆâ–ˆâ–ˆâ–ˆâ–ˆâ–ˆâ–� 2.0 GB                         \u001b[K\n",
      "pulling 966de95ca8a6... 100% â–•â–ˆâ–ˆâ–ˆâ–ˆâ–ˆâ–ˆâ–ˆâ–ˆâ–ˆâ–ˆâ–ˆâ–ˆâ–ˆâ–ˆâ–ˆâ–ˆâ–� 1.4 KB                         \u001b[K\n",
      "pulling fcc5a6bec9da... 100% â–•â–ˆâ–ˆâ–ˆâ–ˆâ–ˆâ–ˆâ–ˆâ–ˆâ–ˆâ–ˆâ–ˆâ–ˆâ–ˆâ–ˆâ–ˆâ–ˆâ–� 7.7 KB                         \u001b[K\n",
      "pulling a70ff7e570d9... 100% â–•â–ˆâ–ˆâ–ˆâ–ˆâ–ˆâ–ˆâ–ˆâ–ˆâ–ˆâ–ˆâ–ˆâ–ˆâ–ˆâ–ˆâ–ˆâ–ˆâ–� 6.0 KB                         \u001b[K\n",
      "pulling 56bb8bd477a5... 100% â–•â–ˆâ–ˆâ–ˆâ–ˆâ–ˆâ–ˆâ–ˆâ–ˆâ–ˆâ–ˆâ–ˆâ–ˆâ–ˆâ–ˆâ–ˆâ–ˆâ–�   96 B                         \u001b[K\n",
      "pulling 34bb5ab01051... 100% â–•â–ˆâ–ˆâ–ˆâ–ˆâ–ˆâ–ˆâ–ˆâ–ˆâ–ˆâ–ˆâ–ˆâ–ˆâ–ˆâ–ˆâ–ˆâ–ˆâ–�  561 B                         \u001b[K\n",
      "verifying sha256 digest \u001b[K\n",
      "writing manifest \u001b[K\n",
      "success \u001b[K\u001b[?25h\u001b[?2026l\n"
     ]
    }
   ],
   "source": [
    "# Let's just make sure the model is loaded\n",
    "\n",
    "!ollama pull llama3.2"
   ]
  },
  {
   "cell_type": "code",
   "execution_count": 3,
   "id": "32f25e92-4103-4d55-918b-148dfb63153b",
   "metadata": {},
   "outputs": [],
   "source": [
    "# Constants\n",
    "\n",
    "OLLAMA_API = \"http://localhost:11434/api/chat\"\n",
    "HEADERS = {\"Content-Type\": \"application/json\"}\n",
    "MODEL = \"llama3.2\"\n",
    "\n"
   ]
  },
  {
   "cell_type": "code",
   "execution_count": 4,
   "id": "a91d40ab-ff4f-4149-82ac-7cd8b3b987f7",
   "metadata": {},
   "outputs": [
    {
     "name": "stdout",
     "output_type": "stream",
     "text": [
      "I'm just a language model, so I don't have feelings or emotions like humans do, but thanks for asking! How can I assist you today? Is there something on your mind that you'd like to chat about, or perhaps need help with a question or problem? I'm all ears (or rather, all text)!\n"
     ]
    }
   ],
   "source": [
    "import ollama\n",
    "\n",
    "messages = [\n",
    "    {\"role\": \"user\", \"content\": \"how are you buddy?\"}\n",
    "]\n",
    "\n",
    "payload = {\n",
    "        \"model\": MODEL,\n",
    "        \"messages\": messages,\n",
    "        \"stream\": True\n",
    "    }\n",
    "\n",
    "\n",
    "response = ollama.chat(model=MODEL, messages=messages)\n",
    "print(response['message']['content'])"
   ]
  },
  {
   "cell_type": "markdown",
   "id": "dff58904-f3db-492c-904b-5f27a0145ee9",
   "metadata": {},
   "source": [
    "\n",
    "## Types of prompts\n",
    "LLM Models have been trained to receive instructions in a particular way.\n",
    "\n",
    "They expect to receive:\n",
    "\n",
    "**A system prompt** that tells them what task they are performing and what tone they should use\n",
    "\n",
    "**A user prompt** -- the conversation starter that they should reply to"
   ]
  },
  {
   "cell_type": "code",
   "execution_count": 5,
   "id": "71580ce3-064f-44b3-be85-cb9c52cf34f6",
   "metadata": {},
   "outputs": [],
   "source": [
    "system_prompt = \"You are an assistant that analyzes the contents of a website \\\n",
    "and provides a short summary, ignoring text that might be navigation related. \\\n",
    "Respond in markdown.\""
   ]
  },
  {
   "cell_type": "code",
   "execution_count": 6,
   "id": "acfdb3ba-247a-4b66-8bdd-b3ef79ffdd73",
   "metadata": {},
   "outputs": [],
   "source": [
    "# A class to represent a Webpage\n",
    "# Some websites need you to use proper headers when fetching them:\n",
    "headers = {\n",
    " \"User-Agent\": \"Mozilla/5.0 (Windows NT 10.0; Win64; x64) AppleWebKit/537.36 (KHTML, like Gecko) Chrome/117.0.0.0 Safari/537.36\"\n",
    "}\n",
    "\n",
    "class Website:\n",
    "\n",
    "    def __init__(self, url):\n",
    "        \"\"\"\n",
    "        Create this Website object from the given url using the BeautifulSoup library\n",
    "        \"\"\"\n",
    "        self.url = url\n",
    "        response = requests.get(url, headers=headers)\n",
    "        soup = BeautifulSoup(response.content, 'html.parser')\n",
    "        self.title = soup.title.string if soup.title else \"No title found\"\n",
    "        for irrelevant in soup.body([\"script\", \"style\", \"img\", \"input\"]):\n",
    "            irrelevant.decompose()\n",
    "        self.text = soup.body.get_text(separator=\"\\n\", strip=True)\n"
   ]
  },
  {
   "cell_type": "code",
   "execution_count": 7,
   "id": "e590b335-5852-4305-9f6b-d07e1f9a43c3",
   "metadata": {},
   "outputs": [],
   "source": [
    "\n",
    "def user_prompt_for(website):\n",
    "    user_prompt = f\"You are looking at a website titled {website.title}\"\n",
    "    user_prompt += \"\\nThe contents of this website is as follows; \\\n",
    "please provide a short summary of this website in markdown. \\\n",
    "If it includes news or announcements, then summarize these too.\\n\\n\"\n",
    "    user_prompt += website.text\n",
    "    return user_prompt\n"
   ]
  },
  {
   "cell_type": "code",
   "execution_count": 8,
   "id": "f207ff42-092c-4ee6-b6b2-c7011844c4cb",
   "metadata": {},
   "outputs": [],
   "source": [
    "# See how this function creates exactly the format above\n",
    "\n",
    "def messages_for(website):\n",
    "    return [\n",
    "        {\"role\": \"system\", \"content\": system_prompt},\n",
    "        {\"role\": \"user\", \"content\": user_prompt_for(website)}\n",
    "    ]"
   ]
  },
  {
   "cell_type": "code",
   "execution_count": 9,
   "id": "1b2c78df-7f6d-4769-84f8-9073d88abf04",
   "metadata": {},
   "outputs": [],
   "source": [
    "site='https://www.bbc.com/news/world/asia/india'"
   ]
  },
  {
   "cell_type": "code",
   "execution_count": 10,
   "id": "58fef7d9-8bc4-42a3-b502-464db7ac3b0d",
   "metadata": {},
   "outputs": [
    {
     "data": {
      "text/plain": [
       "[{'role': 'system',\n",
       "  'content': 'You are an assistant that analyzes the contents of a website and provides a short summary, ignoring text that might be navigation related. Respond in markdown.'},\n",
       " {'role': 'user',\n",
       "  'content': \"You are looking at a website titled India | Latest News & Updates | BBC News\\nThe contents of this website is as follows; please provide a short summary of this website in markdown. If it includes news or announcements, then summarize these too.\\n\\nSkip to content\\nBritish Broadcasting Corporation\\nHome\\nNews\\nSport\\nBusiness\\nInnovation\\nCulture\\nArts\\nTravel\\nEarth\\nAudio\\nVideo\\nLive\\nIsrael-Gaza War\\nWar in Ukraine\\nUS & Canada\\nUK\\nAfrica\\nAsia\\nAustralia\\nEurope\\nLatin America\\nMiddle East\\nIn Pictures\\nBBC InDepth\\nBBC Verify\\nHome\\nNews\\nIsrael-Gaza War\\nWar in Ukraine\\nUS & Canada\\nUK\\nUK Politics\\nEngland\\nN. Ireland\\nN. Ireland Politics\\nScotland\\nScotland Politics\\nWales\\nWales Politics\\nAfrica\\nAsia\\nChina\\nIndia\\nAustralia\\nEurope\\nLatin America\\nMiddle East\\nIn Pictures\\nBBC InDepth\\nBBC Verify\\nSport\\nBusiness\\nExecutive Lounge\\nTechnology of Business\\nFuture of Business\\nInnovation\\nTechnology\\nScience & Health\\nArtificial Intelligence\\nAI v the Mind\\nCulture\\nFilm & TV\\nMusic\\nArt & Design\\nStyle\\nBooks\\nEntertainment News\\nArts\\nArts in Motion\\nTravel\\nDestinations\\nAfrica\\nAntarctica\\nAsia\\nAustralia and Pacific\\nCaribbean & Bermuda\\nCentral America\\nEurope\\nMiddle East\\nNorth America\\nSouth America\\nWorld’s Table\\nCulture & Experiences\\nAdventures\\nThe SpeciaList\\nEarth\\nNatural Wonders\\nWeather & Science\\nClimate Solutions\\nSustainable Business\\nGreen Living\\nAudio\\nPodcasts\\nRadio\\nAudio FAQs\\nVideo\\nLive\\nLive News\\nLive Sport\\nHome\\nNews\\nSport\\nBusiness\\nInnovation\\nCulture\\nArts\\nTravel\\nEarth\\nAudio\\nVideo\\nLive\\nWeather\\nNewsletters\\nNews\\nNews\\nAsia\\nChina\\nIndia\\nVance in Delhi to meet Modi amid tariff tensions\\nThe talks are likely to focus on fast-tracking a trade deal, earlier expected to conclude by the end of 2025.\\n13 hrs ago\\nAsia\\nA death every three minutes: Why India's roads are among the world's deadliest\\nIndia's roads claimed over 172,000 lives in 2023 - averaging 474 deaths daily, or one every three minutes.\\n19 hrs ago\\nAsia\\nThe forgotten Indian explorer who uncovered an ancient civilisation\\nRakhaldas Banerjee is credited with discovering Mohenjo-daro, but his legacy is tainted by controversy.\\n3 days ago\\nAsia\\nPM Modi and Elon Musk talk India-US tech collaboration\\nModi said he discussed with Musk India's potential to collaborate with the US on technology.\\n3 days ago\\nWorld\\nIndian man accused of grenade attacks held in the US\\nHarpreet Singh is wanted by Indian authorities for his alleged role in terror attacks in Punjab state.\\n3 days ago\\nAsia\\nA death every three minutes: Why India's roads are among the world's deadliest\\nIndia's roads claimed over 172,000 lives in 2023 - averaging 474 deaths daily, or one every three minutes.\\n19 hrs ago\\nAsia\\nRohit returns to form as MI thrash CSK\\nRohit Sharma hits his first half-century of the season as Mumbai Indians beat Chennai Super Kings by nine wickets in the IPL.\\n1 day ago\\nCricket\\nIndia's sword-wielding grandmother still going strong at 82\\nAt 82, Meenakshi Amma is possibly the oldest woman to practise an ancient Indian martial art.\\n2 days ago\\nAsia\\nAnxiety at US colleges as foreign students are detained and visas revoked\\nIndian scholar and Georgetown fellow Badar Khan Suri was seized by federal agents outside his Virginia home in March.\\n3 days ago\\nUS & Canada\\nThe forgotten Indian explorer who uncovered an ancient civilisation\\nRakhaldas Banerjee is credited with discovering Mohenjo-daro, but his legacy is tainted by controversy.\\n3 days ago\\nAsia\\nFeatures\\nThe rise and wobble of India's EV pioneer Ola\\nOla, once a rising star, is facing falling sales amid rising competition and regulatory scrutiny.\\n4 days ago\\nAsia\\nBluSmart breakdown - how Uber's EV rival in India collapsed\\nThe company has halted taxi bookings after allegations of fund diversion by India's market regulator.\\n4 days ago\\nAsia\\nIPL 2025 points table and top run-scorers & wicket-takers\\nThe IPL 2025 is in full swing, but who is leading the race for the orange and purple cap? BBC Sport looks at the top run-scorers and wicket-takers in the 18th edition.\\n1 hr ago\\nCricket\\nThe endless legal battles over Muslim-donated lands\\nThousands of Muslim charitable and religious properties in India are tangled in long-running disputes.\\n5 days ago\\nAsia\\nKerala airport that halts flights for a divine procession\\nTwice a year, the Thiruvananthapuram airport shuts operations for a few hours for a temple procession.\\n6 days ago\\nAsia\\nWatch\\nWatch: How Trump's tariffs may impact India\\nThe BBC's Nikhil Inamdar explains how US President Donald Trump's tariffs could impact India.\\n3 Apr 2025\\nAsia\\nCovid five years on: How BBC journalists covered the crisis in India\\nFrom highways to hospitals and funeral grounds - here's how we covered the pandemic that ravaged India.\\n25 Mar 2025\\nAsia\\nMoment Nasa astronauts begin journey back to Earth\\nTwo astronauts are returning home after nine months in space.\\n18 Mar 2025\\nUS & Canada\\nCrowds gather to celebrate Holi, the Indian festival of colours\\n14 Mar 2025\\nMeet a photographer who's covered India's Kumbh Mela for 30 years\\nA photojournalist narrates his experience of capturing the world's biggest religious gathering for decades.\\n2 Mar 2025\\nAsia\\nLatest updates\\n13 hrs ago\\nVance in Delhi to meet Modi amid tariff tensions\\nThe talks are likely to focus on fast-tracking a trade deal, earlier expected to conclude by the end of 2025.\\n13 hrs ago\\nAsia\\n19 hrs ago\\nA death every three minutes: Why India's roads are among the world's deadliest\\nIndia's roads claimed over 172,000 lives in 2023 - averaging 474 deaths daily, or one every three minutes.\\n19 hrs ago\\nAsia\\n2 days ago\\nIndia's sword-wielding grandmother still going strong at 82\\nAt 82, Meenakshi Amma is possibly the oldest woman to practise an ancient Indian martial art.\\n2 days ago\\nAsia\\n3 days ago\\nThe forgotten Indian explorer who uncovered an ancient civilisation\\nRakhaldas Banerjee is credited with discovering Mohenjo-daro, but his legacy is tainted by controversy.\\n3 days ago\\nAsia\\n3 days ago\\nPM Modi and Elon Musk talk India-US tech collaboration\\nModi said he discussed with Musk India's potential to collaborate with the US on technology.\\n3 days ago\\nWorld\\n3 days ago\\nIndian man accused of grenade attacks held in the US\\nHarpreet Singh is wanted by Indian authorities for his alleged role in terror attacks in Punjab state.\\n3 days ago\\nAsia\\n4 days ago\\nThe rise and wobble of India's EV pioneer Ola\\nOla, once a rising star, is facing falling sales amid rising competition and regulatory scrutiny.\\n4 days ago\\nAsia\\n4 days ago\\nBluSmart breakdown - how Uber's EV rival in India collapsed\\nThe company has halted taxi bookings after allegations of fund diversion by India's market regulator.\\n4 days ago\\nAsia\\n5 days ago\\nVance to visit India as Trump intensifies tariff war with China\\nThe visit comes as India and US continue high-stakes talks to finalise a bilateral trade deal.\\n5 days ago\\nWorld\\n...\\nBritish Broadcasting Corporation\\nHome\\nNews\\nSport\\nBusiness\\nInnovation\\nCulture\\nArts\\nTravel\\nEarth\\nAudio\\nVideo\\nLive\\nWeather\\nBBC Shop\\nBritBox\\nBBC in other languages\\nFollow BBC on:\\nTerms of Use\\nAbout the BBC\\nPrivacy Policy\\nCookies\\nAccessibility Help\\nContact the BBC\\nAdvertise with us\\nDo not share or sell my info\\nContact technical support\\nCopyright 2025 BBC. All rights reserved.\\nThe\\nBBC\\nis\\nnot responsible for the content of external sites.\\nRead about our approach to external linking.\"}]"
      ]
     },
     "execution_count": 10,
     "metadata": {},
     "output_type": "execute_result"
    }
   ],
   "source": [
    "messages_for(Website(site))"
   ]
  },
  {
   "cell_type": "code",
   "execution_count": 11,
   "id": "8890744c-f035-409c-b580-b4565c32afbf",
   "metadata": {},
   "outputs": [
    {
     "name": "stdout",
     "output_type": "stream",
     "text": [
      "starting\n",
      "sent payload {'model': 'llama3.2', 'messages': [{'role': 'system', 'content': 'You are an assistant that analyzes the contents of a website and provides a short summary, ignoring text that might be navigation related. Respond in markdown.'}, {'role': 'user', 'content': \"You are looking at a website titled India | Latest News & Updates | BBC News\\nThe contents of this website is as follows; please provide a short summary of this website in markdown. If it includes news or announcements, then summarize these too.\\n\\nSkip to content\\nBritish Broadcasting Corporation\\nHome\\nNews\\nSport\\nBusiness\\nInnovation\\nCulture\\nArts\\nTravel\\nEarth\\nAudio\\nVideo\\nLive\\nIsrael-Gaza War\\nWar in Ukraine\\nUS & Canada\\nUK\\nAfrica\\nAsia\\nAustralia\\nEurope\\nLatin America\\nMiddle East\\nIn Pictures\\nBBC InDepth\\nBBC Verify\\nHome\\nNews\\nIsrael-Gaza War\\nWar in Ukraine\\nUS & Canada\\nUK\\nUK Politics\\nEngland\\nN. Ireland\\nN. Ireland Politics\\nScotland\\nScotland Politics\\nWales\\nWales Politics\\nAfrica\\nAsia\\nChina\\nIndia\\nAustralia\\nEurope\\nLatin America\\nMiddle East\\nIn Pictures\\nBBC InDepth\\nBBC Verify\\nSport\\nBusiness\\nExecutive Lounge\\nTechnology of Business\\nFuture of Business\\nInnovation\\nTechnology\\nScience & Health\\nArtificial Intelligence\\nAI v the Mind\\nCulture\\nFilm & TV\\nMusic\\nArt & Design\\nStyle\\nBooks\\nEntertainment News\\nArts\\nArts in Motion\\nTravel\\nDestinations\\nAfrica\\nAntarctica\\nAsia\\nAustralia and Pacific\\nCaribbean & Bermuda\\nCentral America\\nEurope\\nMiddle East\\nNorth America\\nSouth America\\nWorld’s Table\\nCulture & Experiences\\nAdventures\\nThe SpeciaList\\nEarth\\nNatural Wonders\\nWeather & Science\\nClimate Solutions\\nSustainable Business\\nGreen Living\\nAudio\\nPodcasts\\nRadio\\nAudio FAQs\\nVideo\\nLive\\nLive News\\nLive Sport\\nHome\\nNews\\nSport\\nBusiness\\nInnovation\\nCulture\\nArts\\nTravel\\nEarth\\nAudio\\nVideo\\nLive\\nWeather\\nNewsletters\\nNews\\nNews\\nAsia\\nChina\\nIndia\\nVance in Delhi to meet Modi amid tariff tensions\\nThe talks are likely to focus on fast-tracking a trade deal, earlier expected to conclude by the end of 2025.\\n13 hrs ago\\nAsia\\nA death every three minutes: Why India's roads are among the world's deadliest\\nIndia's roads claimed over 172,000 lives in 2023 - averaging 474 deaths daily, or one every three minutes.\\n19 hrs ago\\nAsia\\nThe forgotten Indian explorer who uncovered an ancient civilisation\\nRakhaldas Banerjee is credited with discovering Mohenjo-daro, but his legacy is tainted by controversy.\\n3 days ago\\nAsia\\nPM Modi and Elon Musk talk India-US tech collaboration\\nModi said he discussed with Musk India's potential to collaborate with the US on technology.\\n3 days ago\\nWorld\\nIndian man accused of grenade attacks held in the US\\nHarpreet Singh is wanted by Indian authorities for his alleged role in terror attacks in Punjab state.\\n3 days ago\\nAsia\\nA death every three minutes: Why India's roads are among the world's deadliest\\nIndia's roads claimed over 172,000 lives in 2023 - averaging 474 deaths daily, or one every three minutes.\\n19 hrs ago\\nAsia\\nRohit returns to form as MI thrash CSK\\nRohit Sharma hits his first half-century of the season as Mumbai Indians beat Chennai Super Kings by nine wickets in the IPL.\\n1 day ago\\nCricket\\nIndia's sword-wielding grandmother still going strong at 82\\nAt 82, Meenakshi Amma is possibly the oldest woman to practise an ancient Indian martial art.\\n2 days ago\\nAsia\\nAnxiety at US colleges as foreign students are detained and visas revoked\\nIndian scholar and Georgetown fellow Badar Khan Suri was seized by federal agents outside his Virginia home in March.\\n3 days ago\\nUS & Canada\\nThe forgotten Indian explorer who uncovered an ancient civilisation\\nRakhaldas Banerjee is credited with discovering Mohenjo-daro, but his legacy is tainted by controversy.\\n3 days ago\\nAsia\\nFeatures\\nThe rise and wobble of India's EV pioneer Ola\\nOla, once a rising star, is facing falling sales amid rising competition and regulatory scrutiny.\\n4 days ago\\nAsia\\nBluSmart breakdown - how Uber's EV rival in India collapsed\\nThe company has halted taxi bookings after allegations of fund diversion by India's market regulator.\\n4 days ago\\nAsia\\nIPL 2025 points table and top run-scorers & wicket-takers\\nThe IPL 2025 is in full swing, but who is leading the race for the orange and purple cap? BBC Sport looks at the top run-scorers and wicket-takers in the 18th edition.\\n1 hr ago\\nCricket\\nThe endless legal battles over Muslim-donated lands\\nThousands of Muslim charitable and religious properties in India are tangled in long-running disputes.\\n5 days ago\\nAsia\\nKerala airport that halts flights for a divine procession\\nTwice a year, the Thiruvananthapuram airport shuts operations for a few hours for a temple procession.\\n6 days ago\\nAsia\\nWatch\\nWatch: How Trump's tariffs may impact India\\nThe BBC's Nikhil Inamdar explains how US President Donald Trump's tariffs could impact India.\\n3 Apr 2025\\nAsia\\nCovid five years on: How BBC journalists covered the crisis in India\\nFrom highways to hospitals and funeral grounds - here's how we covered the pandemic that ravaged India.\\n25 Mar 2025\\nAsia\\nMoment Nasa astronauts begin journey back to Earth\\nTwo astronauts are returning home after nine months in space.\\n18 Mar 2025\\nUS & Canada\\nCrowds gather to celebrate Holi, the Indian festival of colours\\n14 Mar 2025\\nMeet a photographer who's covered India's Kumbh Mela for 30 years\\nA photojournalist narrates his experience of capturing the world's biggest religious gathering for decades.\\n2 Mar 2025\\nAsia\\nLatest updates\\n13 hrs ago\\nVance in Delhi to meet Modi amid tariff tensions\\nThe talks are likely to focus on fast-tracking a trade deal, earlier expected to conclude by the end of 2025.\\n13 hrs ago\\nAsia\\n19 hrs ago\\nA death every three minutes: Why India's roads are among the world's deadliest\\nIndia's roads claimed over 172,000 lives in 2023 - averaging 474 deaths daily, or one every three minutes.\\n19 hrs ago\\nAsia\\n2 days ago\\nIndia's sword-wielding grandmother still going strong at 82\\nAt 82, Meenakshi Amma is possibly the oldest woman to practise an ancient Indian martial art.\\n2 days ago\\nAsia\\n3 days ago\\nThe forgotten Indian explorer who uncovered an ancient civilisation\\nRakhaldas Banerjee is credited with discovering Mohenjo-daro, but his legacy is tainted by controversy.\\n3 days ago\\nAsia\\n3 days ago\\nPM Modi and Elon Musk talk India-US tech collaboration\\nModi said he discussed with Musk India's potential to collaborate with the US on technology.\\n3 days ago\\nWorld\\n3 days ago\\nIndian man accused of grenade attacks held in the US\\nHarpreet Singh is wanted by Indian authorities for his alleged role in terror attacks in Punjab state.\\n3 days ago\\nAsia\\n4 days ago\\nThe rise and wobble of India's EV pioneer Ola\\nOla, once a rising star, is facing falling sales amid rising competition and regulatory scrutiny.\\n4 days ago\\nAsia\\n4 days ago\\nBluSmart breakdown - how Uber's EV rival in India collapsed\\nThe company has halted taxi bookings after allegations of fund diversion by India's market regulator.\\n4 days ago\\nAsia\\n5 days ago\\nVance to visit India as Trump intensifies tariff war with China\\nThe visit comes as India and US continue high-stakes talks to finalise a bilateral trade deal.\\n5 days ago\\nWorld\\n...\\nBritish Broadcasting Corporation\\nHome\\nNews\\nSport\\nBusiness\\nInnovation\\nCulture\\nArts\\nTravel\\nEarth\\nAudio\\nVideo\\nLive\\nWeather\\nBBC Shop\\nBritBox\\nBBC in other languages\\nFollow BBC on:\\nTerms of Use\\nAbout the BBC\\nPrivacy Policy\\nCookies\\nAccessibility Help\\nContact the BBC\\nAdvertise with us\\nDo not share or sell my info\\nContact technical support\\nCopyright 2025 BBC. All rights reserved.\\nThe\\nBBC\\nis\\nnot responsible for the content of external sites.\\nRead about our approach to external linking.\"}], 'stream': False}\n",
      "**Summary of India | Latest News & Updates | BBC News**\n",
      "=============================================\n",
      "\n",
      "### News and Announcements\n",
      "\n",
      "*   **Vance in Delhi to meet Modi amid tariff tensions**: US Trade Representative Katherine Tai is set to discuss fast-tracking a trade deal with Indian Prime Minister Narendra Modi.\n",
      "*   **India's sword-wielding grandmother still going strong at 82**: Meenakshi Amma, 82, practices an ancient Indian martial art despite her age.\n",
      "*   **PM Modi and Elon Musk talk India-US tech collaboration**: The Indian Prime Minister discussed potential technology collaborations with the US President.\n",
      "\n",
      "### Top Stories\n",
      "\n",
      "*   **A death every three minutes: Why India's roads are among the world's deadliest**: Over 172,000 lives lost on Indian roads in 2023.\n",
      "*   **The rise and wobble of India's EV pioneer Ola**: The company faces falling sales amid rising competition and regulatory scrutiny.\n",
      "\n",
      "### Features\n",
      "\n",
      "*   **BluSmart breakdown - how Uber's EV rival in India collapsed**: India's market regulator alleges fund diversion, halting taxi bookings.\n",
      "*   **IPL 2025 points table and top run-scorers & wicket-takers**: The Indian Premier League continues with its 15th season.\n",
      "\n",
      "### Videos\n",
      "\n",
      "*   [Watch: How Trump's tariffs may impact India](https://www.youtube.com/watch?v=) (BBC explainer)\n",
      "*   [Covid five years on: How BBC journalists covered the crisis in India](https://www.youtube.com/watch?)\n"
     ]
    }
   ],
   "source": [
    "# And now: call the API. \n",
    "import ollama\n",
    "\n",
    "# Constants\n",
    "print('starting')\n",
    "OLLAMA_API = \"http://localhost:11434/api/chat\"\n",
    "HEADERS = {\"Content-Type\": \"application/json\"}\n",
    "MODEL = \"llama3.2\"\n",
    "\n",
    "\n",
    "payload = {\n",
    "        \"model\": MODEL,\n",
    "        \"messages\": messages_for(Website(site)),\n",
    "        \"stream\": False\n",
    "    }\n",
    "print('sent payload',payload)\n",
    "response = requests.post(OLLAMA_API, json=payload, headers=HEADERS)\n",
    "print(response.json()['message']['content'])\n"
   ]
  },
  {
   "cell_type": "code",
   "execution_count": 12,
   "id": "c6e7f7c3-1fe0-4041-bbe1-ad0a7f8a966c",
   "metadata": {},
   "outputs": [
    {
     "name": "stdout",
     "output_type": "stream",
     "text": [
      "hi\n"
     ]
    }
   ],
   "source": [
    "print('hi')\n",
    "\n"
   ]
  },
  {
   "cell_type": "code",
   "execution_count": null,
   "id": "a8aa09aa-ff45-4d91-a819-7c4d315e8b66",
   "metadata": {},
   "outputs": [],
   "source": []
  }
 ],
 "metadata": {
  "kernelspec": {
   "display_name": "Python 3 (ipykernel)",
   "language": "python",
   "name": "python3"
  },
  "language_info": {
   "codemirror_mode": {
    "name": "ipython",
    "version": 3
   },
   "file_extension": ".py",
   "mimetype": "text/x-python",
   "name": "python",
   "nbconvert_exporter": "python",
   "pygments_lexer": "ipython3",
   "version": "3.11.12"
  }
 },
 "nbformat": 4,
 "nbformat_minor": 5
}
